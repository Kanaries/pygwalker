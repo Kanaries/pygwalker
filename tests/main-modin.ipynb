{
 "cells": [
  {
   "cell_type": "code",
   "execution_count": null,
   "metadata": {},
   "outputs": [],
   "source": [
    "import sys\n",
    "\n",
    "if sys.platform == 'linux' and sys.version_info.major == 3 and sys.version_info.minor == 11:\n",
    "    from modin import pandas as pd\n",
    "    import pygwalker as pyg\n",
    "    df = pd.read_csv('./bike_sharing_dc.csv',parse_dates=['date'])\n",
    "    pyg.walk(df, hideDataSourceConfig=True, themeKey='vega', dark='dark')"
   ]
  },
  {
   "cell_type": "code",
   "execution_count": null,
   "metadata": {},
   "outputs": [],
   "source": []
  }
 ],
 "metadata": {
  "language_info": {
   "name": "python"
  },
  "orig_nbformat": 4
 },
 "nbformat": 4,
 "nbformat_minor": 2
}
