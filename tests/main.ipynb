{
 "cells": [
  {
   "cell_type": "code",
   "execution_count": null,
   "id": "73dcdeb8-816c-4185-8630-a51b3df25765",
   "metadata": {
    "tags": []
   },
   "outputs": [],
   "source": [
    "import pandas as pd\n",
    "df = pd.read_csv('./bike_sharing_dc.csv', parse_dates=['date'])"
   ]
  },
  {
   "cell_type": "code",
   "execution_count": null,
   "id": "6465d86d-69e0-4767-8e89-3a2eec8b4e92",
   "metadata": {
    "tags": []
   },
   "outputs": [],
   "source": [
    "import pygwalker as pyg\n",
    "help(pyg.walk)"
   ]
  },
  {
   "cell_type": "code",
   "execution_count": null,
   "id": "80c52eec",
   "metadata": {},
   "outputs": [],
   "source": [
    "pyg.walk(df, theme_key='vega', dark='dark')"
   ]
  }
 ],
 "metadata": {
  "kernelspec": {
   "display_name": "PyGWalker",
   "language": "python",
   "name": "pygwalker"
  },
  "language_info": {
   "codemirror_mode": {
    "name": "ipython",
    "version": 3
   },
   "file_extension": ".py",
   "mimetype": "text/x-python",
   "name": "python",
   "nbconvert_exporter": "python",
   "pygments_lexer": "ipython3",
   "version": "3.8.16"
  },
  "widgets": {
   "application/vnd.jupyter.widget-state+json": {
    "state": {},
    "version_major": 2,
    "version_minor": 0
   }
  }
 },
 "nbformat": 4,
 "nbformat_minor": 5
}
