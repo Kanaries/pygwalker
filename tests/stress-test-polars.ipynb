{
 "cells": [
  {
   "cell_type": "code",
   "execution_count": null,
   "id": "570ec221-2df2-44b6-b0d7-44a6e3279c2c",
   "metadata": {},
   "outputs": [],
   "source": [
    "%load_ext autoreload\n",
    "%autoreload 2"
   ]
  },
  {
   "cell_type": "code",
   "execution_count": null,
   "id": "c630d2d7-9a44-4a83-8c3e-5d71813d0979",
   "metadata": {
    "tags": []
   },
   "outputs": [],
   "source": [
    "import pygwalker.services.config as pyg_conf\n",
    "\n",
    "pyg_conf.set_config({'privacy': 'offline'})"
   ]
  },
  {
   "cell_type": "code",
   "execution_count": null,
   "id": "e1a103bc",
   "metadata": {},
   "outputs": [],
   "source": [
    "!pygwalker config --list"
   ]
  },
  {
   "cell_type": "code",
   "execution_count": null,
   "id": "b944c557-ec0d-4afb-afcb-c5fb2376b25e",
   "metadata": {
    "tags": []
   },
   "outputs": [],
   "source": [
    "import polars as pl\n",
    "df = pl.scan_csv('./bike_sharing_dc.csv', try_parse_dates = True)\n",
    "strange_name = f\"{''.join(chr(i) for i in range(1, 256))}\"\n",
    "df = df.select([\n",
    "    pl.col(\"date\").alias(strange_name),\n",
    "    pl.col(\"*\")\n",
    "])\n",
    "df = df.fetch(10)\n",
    "df = df.with_columns( [\n",
    "    pl.lit(df[\"holiday\"].set_at_idx(1,strange_name)),\n",
    "])\n",
    "df"
   ]
  },
  {
   "cell_type": "code",
   "execution_count": null,
   "id": "527bfe29-c8fd-4051-863f-d1f63e0de4c3",
   "metadata": {},
   "outputs": [],
   "source": [
    "import pygwalker as pyg\n",
    "pyg.walk(df)"
   ]
  }
 ],
 "metadata": {
  "kernelspec": {
   "display_name": "Python 3 (ipykernel)",
   "language": "python",
   "name": "python3"
  },
  "language_info": {
   "codemirror_mode": {
    "name": "ipython",
    "version": 3
   },
   "file_extension": ".py",
   "mimetype": "text/x-python",
   "name": "python",
   "nbconvert_exporter": "python",
   "pygments_lexer": "ipython3",
   "version": "3.9.16"
  }
 },
 "nbformat": 4,
 "nbformat_minor": 5
}
